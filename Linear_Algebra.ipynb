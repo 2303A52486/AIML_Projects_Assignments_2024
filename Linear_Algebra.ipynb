{
  "nbformat": 4,
  "nbformat_minor": 0,
  "metadata": {
    "colab": {
      "provenance": [],
      "authorship_tag": "ABX9TyMmOPIJqd7hLTvWnR4YkN+m",
      "include_colab_link": true
    },
    "kernelspec": {
      "name": "python3",
      "display_name": "Python 3"
    },
    "language_info": {
      "name": "python"
    }
  },
  "cells": [
    {
      "cell_type": "markdown",
      "metadata": {
        "id": "view-in-github",
        "colab_type": "text"
      },
      "source": [
        "<a href=\"https://colab.research.google.com/github/2303A52486/FMML_Projects_Assignments_2024/blob/main/Linear_Algebra.ipynb\" target=\"_parent\"><img src=\"https://colab.research.google.com/assets/colab-badge.svg\" alt=\"Open In Colab\"/></a>"
      ]
    },
    {
      "cell_type": "markdown",
      "source": [
        "# **Basics of Linear Algebra**"
      ],
      "metadata": {
        "id": "OaBZ6AqvxxVb"
      }
    },
    {
      "cell_type": "markdown",
      "source": [
        "Importing the NumPy library for Linear Algebra functions and Matplotlib for some plotting functions."
      ],
      "metadata": {
        "id": "kktEJcv4yA2K"
      }
    },
    {
      "cell_type": "code",
      "execution_count": 3,
      "metadata": {
        "id": "kHgrcQ_0xb3_"
      },
      "outputs": [],
      "source": [
        "import numpy as np\n",
        "import matplotlib.pyplot as plt"
      ]
    },
    {
      "cell_type": "markdown",
      "source": [
        "## Transpose of Matrix\n",
        "\n",
        "Matrix transpose is performed with the transpose method on a nested list or a Python array, or a higher-dimensional Numpy array."
      ],
      "metadata": {
        "id": "Qn9U7bZnyPWo"
      }
    },
    {
      "cell_type": "code",
      "source": [
        "# Tanspose of a Matrix\n",
        "a = [[9,8,6],[5,7,4],[3,2,0]]\n",
        "b = np.transpose(a)\n",
        "print('a:\\n',a)\n",
        "print('b:\\n',b)"
      ],
      "metadata": {
        "colab": {
          "base_uri": "https://localhost:8080/"
        },
        "id": "59Eaf6p5zTJs",
        "outputId": "fae23051-1701-48a7-a252-46a9d194f1c2"
      },
      "execution_count": 10,
      "outputs": [
        {
          "output_type": "stream",
          "name": "stdout",
          "text": [
            "a:\n",
            " [[9, 8, 6], [5, 7, 4], [3, 2, 0]]\n",
            "b:\n",
            " [[9 5 3]\n",
            " [8 7 2]\n",
            " [6 4 0]]\n"
          ]
        }
      ]
    },
    {
      "cell_type": "markdown",
      "source": [
        "If the matrix is a NumPy array, it can be treated as an object and method T can be applied over it as follows."
      ],
      "metadata": {
        "id": "21mtod1cyn1h"
      }
    },
    {
      "cell_type": "code",
      "source": [
        "# Transpose of a Matrix(as NumPy array)\n",
        "print(\"Matrix and its Transpose\")\n",
        "a = np.array([[9,8,6,5],[7,3,2,1]])\n",
        "b = a.T\n",
        "print('a:\\n',a)\n",
        "print('b:\\n',b)"
      ],
      "metadata": {
        "colab": {
          "base_uri": "https://localhost:8080/"
        },
        "id": "Lv153wAx0Z5b",
        "outputId": "fc9759ff-dbd6-4dbb-dbfc-eb644ee45261"
      },
      "execution_count": 9,
      "outputs": [
        {
          "output_type": "stream",
          "name": "stdout",
          "text": [
            "Matrix and its Transpose\n",
            "a:\n",
            " [[9 8 6 5]\n",
            " [7 3 2 1]]\n",
            "b:\n",
            " [[9 7]\n",
            " [8 3]\n",
            " [6 2]\n",
            " [5 1]]\n"
          ]
        }
      ]
    },
    {
      "cell_type": "markdown",
      "source": [
        "The dot method of NumPy performs dot-matrix product (scalar product) for 1D or higher dimensional arrays. If the inputs are scalars (numbers), it performs multiplication."
      ],
      "metadata": {
        "id": "kHs6bWTA1Nrk"
      }
    },
    {
      "cell_type": "code",
      "source": [
        "# Scalars\n",
        "\n",
        "a = 4\n",
        "b = 9\n",
        "c = np.dot(a,b)\n",
        "print(c)"
      ],
      "metadata": {
        "colab": {
          "base_uri": "https://localhost:8080/"
        },
        "id": "eWiBmJRf1OkH",
        "outputId": "483d1c80-3552-41c3-948e-d695df29d85e"
      },
      "execution_count": 11,
      "outputs": [
        {
          "output_type": "stream",
          "name": "stdout",
          "text": [
            "36\n"
          ]
        }
      ]
    },
    {
      "cell_type": "markdown",
      "source": [
        "In the case of one- or higher-dimensional arrays, the inputs can be either NumPy arrays, Python arrays, Python lists or Python’s nested lists."
      ],
      "metadata": {
        "id": "y-nH1dIU1oQd"
      }
    },
    {
      "cell_type": "code",
      "source": [
        "# 1D arrays or vectors\n",
        "a = np.array([9,8,6])  # or a = [9,8,6]\n",
        "b = np.array([5,7,1])  # or b = [5,7,1]\n",
        "c = np.dot(a,b)\n",
        "print(c)"
      ],
      "metadata": {
        "colab": {
          "base_uri": "https://localhost:8080/"
        },
        "id": "bo5DNNFs1pjs",
        "outputId": "cf9111b6-50c1-4cae-e49c-d00dc2b712e7"
      },
      "execution_count": 14,
      "outputs": [
        {
          "output_type": "stream",
          "name": "stdout",
          "text": [
            "107\n"
          ]
        }
      ]
    },
    {
      "cell_type": "code",
      "source": [
        "# 2D arrays or matrices\n",
        "# 2D arrays or matrices\n",
        "a = [[9,8,6],[5,7,4],[3,2,0]]\n",
        "b = [[3,-1,5],[-2,-6,4], [0,4,4]]\n",
        "z = np.dot(a,b)\n",
        "print(z)"
      ],
      "metadata": {
        "colab": {
          "base_uri": "https://localhost:8080/"
        },
        "id": "fQS2Z72G2ZaZ",
        "outputId": "bc759e98-88d3-4e82-c8c5-78e668cf9318"
      },
      "execution_count": 3,
      "outputs": [
        {
          "output_type": "stream",
          "name": "stdout",
          "text": [
            "[[ 11 -33 101]\n",
            " [  1 -31  69]\n",
            " [  5 -15  23]]\n"
          ]
        }
      ]
    },
    {
      "cell_type": "markdown",
      "source": [
        "We can obtained the same result using np.matmul()."
      ],
      "metadata": {
        "id": "gk1XqKnfZYgV"
      }
    },
    {
      "cell_type": "code",
      "source": [
        "c = np.matmul(a,b)\n",
        "print(c)"
      ],
      "metadata": {
        "colab": {
          "base_uri": "https://localhost:8080/"
        },
        "id": "N9adbuBgZai-",
        "outputId": "86ca4ec4-fdb3-401e-b4ac-3523e5392829"
      },
      "execution_count": 4,
      "outputs": [
        {
          "output_type": "stream",
          "name": "stdout",
          "text": [
            "[[ 11 -33 101]\n",
            " [  1 -31  69]\n",
            " [  5 -15  23]]\n"
          ]
        }
      ]
    },
    {
      "cell_type": "markdown",
      "source": [
        "**Numpy Arrays**\n",
        "A NumPy array is a Numpy object upon which the dot method can be performed as below. However, this method accepts only NumPy arrays to operate on."
      ],
      "metadata": {
        "id": "qF3ATG2iZkxc"
      }
    },
    {
      "cell_type": "code",
      "source": [
        "# convert lists into NumPy arrays\n",
        "newa = np.array(a)\n",
        "newb = np.array(b)\n",
        "c = newa.dot(newb)\n",
        "print(c)"
      ],
      "metadata": {
        "colab": {
          "base_uri": "https://localhost:8080/"
        },
        "id": "BxZJrtCvZvjd",
        "outputId": "332a81d8-2582-44e8-d35a-547e252e517a"
      },
      "execution_count": 6,
      "outputs": [
        {
          "output_type": "stream",
          "name": "stdout",
          "text": [
            "[[ 11 -33 101]\n",
            " [  1 -31  69]\n",
            " [  5 -15  23]]\n"
          ]
        }
      ]
    },
    {
      "cell_type": "markdown",
      "source": [
        "### The multi_dot method\n",
        "It performs dot (scalar) product with 2 or more input matrices. First and last arrays can be either 1D or 2D arrays. However, the dimensions of the matrices must suit subsequent scalar matrix multiplication."
      ],
      "metadata": {
        "id": "Ix0kxtrZaZnz"
      }
    },
    {
      "cell_type": "code",
      "source": [
        "# matrices with random integers: entries ranging from -4 to 4\n",
        "a = np.random.randint(-4,4,(500,5))\n",
        "b = np.random.randint(-4,4,(5,1000))\n",
        "c = np.random.randint(-4,4,(1000,10))\n",
        "d = np.random.randint(-4,4,(10,2000))\n",
        "e = np.random.randint(-4,4,(2000,200))\n",
        "\n",
        "# Perform multiple matrix multiplication\n",
        "z = np.linalg.multi_dot([a,b,c,d,e])"
      ],
      "metadata": {
        "id": "vHNYyfOpab-e"
      },
      "execution_count": 4,
      "outputs": []
    },
    {
      "cell_type": "markdown",
      "source": [
        "The result of this method can be obtained with successive dot products of matrices but multi_dot functions in an optimized manner. It decides the order of dot multiplication to complete the entire process efficiently."
      ],
      "metadata": {
        "id": "fRMzxn2H2u_0"
      }
    },
    {
      "cell_type": "code",
      "source": [
        "%%time\n",
        "z = np.linalg.multi_dot([a,b,c,d,e])\n",
        "print(z, '\\n')"
      ],
      "metadata": {
        "colab": {
          "base_uri": "https://localhost:8080/"
        },
        "id": "heqtl0TL2wYs",
        "outputId": "e19edac2-64b4-4e29-eae8-e5a41e133fc3"
      },
      "execution_count": 5,
      "outputs": [
        {
          "output_type": "stream",
          "name": "stdout",
          "text": [
            "[[-17073684 -12364142 -13967321 ... -13646039 -15952211 -14164224]\n",
            " [ -6796644  -4030712  -5154404 ...  -4124664  -6431000  -5760580]\n",
            " [ -7551984  -5186536  -6066545 ...  -5729169  -6985830  -7567756]\n",
            " ...\n",
            " [-15530532 -10194126 -11373424 ... -11341748 -15015911 -12220573]\n",
            " [-23299056 -16629074 -18702219 ... -19614904 -21765483 -19178362]\n",
            " [  -883172   -594764    136750 ...     67612  -1376466    176518]] \n",
            "\n",
            "CPU times: user 16 ms, sys: 0 ns, total: 16 ms\n",
            "Wall time: 18.6 ms\n"
          ]
        }
      ]
    },
    {
      "cell_type": "code",
      "source": [
        "%%time\n",
        "z = a.dot(b).dot(c).dot(d).dot(e)\n",
        "print(z, '\\n')"
      ],
      "metadata": {
        "colab": {
          "base_uri": "https://localhost:8080/"
        },
        "id": "H5BTFTMF23HD",
        "outputId": "61ddf839-4b6c-4b7f-802f-49b6fb0cf719"
      },
      "execution_count": 6,
      "outputs": [
        {
          "output_type": "stream",
          "name": "stdout",
          "text": [
            "[[-17073684 -12364142 -13967321 ... -13646039 -15952211 -14164224]\n",
            " [ -6796644  -4030712  -5154404 ...  -4124664  -6431000  -5760580]\n",
            " [ -7551984  -5186536  -6066545 ...  -5729169  -6985830  -7567756]\n",
            " ...\n",
            " [-15530532 -10194126 -11373424 ... -11341748 -15015911 -12220573]\n",
            " [-23299056 -16629074 -18702219 ... -19614904 -21765483 -19178362]\n",
            " [  -883172   -594764    136750 ...     67612  -1376466    176518]] \n",
            "\n",
            "CPU times: user 482 ms, sys: 12.3 ms, total: 494 ms\n",
            "Wall time: 541 ms\n"
          ]
        }
      ]
    },
    {
      "cell_type": "markdown",
      "source": [
        "### Inner Product\n",
        "\n",
        "The inner product is the scalar multiplication of one vector (or matrix) and the transpose of another vector (or matrix). If both arrays are 1D arrays, their dimensions should be identical. If either or both arrays are higher-dimensional, then the last dimensions of both arrays should be identical."
      ],
      "metadata": {
        "id": "SSO7ywFO3EM3"
      }
    },
    {
      "cell_type": "code",
      "source": [
        "a = np.array([[5,7,4],[3,2,0]])\n",
        "b = np.array([6,3,2])\n",
        "c = np.inner(b,a)\n",
        "print(c)"
      ],
      "metadata": {
        "colab": {
          "base_uri": "https://localhost:8080/"
        },
        "id": "qTQrVgb23amh",
        "outputId": "a36b6595-1194-4763-f58a-a71478ab5687"
      },
      "execution_count": 42,
      "outputs": [
        {
          "output_type": "stream",
          "name": "stdout",
          "text": [
            "[59 24]\n"
          ]
        }
      ]
    },
    {
      "cell_type": "code",
      "source": [
        "# The same results can be obtained using the dot method as follows.\n",
        "\n",
        "a.dot(b.T)"
      ],
      "metadata": {
        "colab": {
          "base_uri": "https://localhost:8080/"
        },
        "id": "PvdTmphl3gT3",
        "outputId": "91d302f0-8a71-4e5e-b647-a52cbff5364d"
      },
      "execution_count": 8,
      "outputs": [
        {
          "output_type": "execute_result",
          "data": {
            "text/plain": [
              "array([18, 21])"
            ]
          },
          "metadata": {},
          "execution_count": 8
        }
      ]
    },
    {
      "cell_type": "markdown",
      "source": [
        "### Outer Product\n",
        "Outer product is the dot product of a column vector of size Mx1 and a row vector of size 1xN. The resulting array is a matrix of size MxN."
      ],
      "metadata": {
        "id": "eJNPcBJ03kSA"
      }
    },
    {
      "cell_type": "code",
      "source": [
        "a = np.array([6,4,5,2,10])\n",
        "b = np.array([23,12,4])\n",
        "c = np.outer(a,b)\n",
        "print(c)"
      ],
      "metadata": {
        "colab": {
          "base_uri": "https://localhost:8080/"
        },
        "id": "hnyckweu3j-j",
        "outputId": "98d98bed-c37a-4947-d85a-43a3ff1f59a1"
      },
      "execution_count": 37,
      "outputs": [
        {
          "output_type": "stream",
          "name": "stdout",
          "text": [
            "[[138  72  24]\n",
            " [ 92  48  16]\n",
            " [115  60  20]\n",
            " [ 46  24   8]\n",
            " [230 120  40]]\n"
          ]
        }
      ]
    },
    {
      "cell_type": "markdown",
      "source": [
        "The last dimension of the second array and the second-to-last dimension of the first array should be identical to perform matrix multiplication. Further, the symbol @ is also used to perform matrix multiplication."
      ],
      "metadata": {
        "id": "9By0_IS63xRW"
      }
    },
    {
      "cell_type": "code",
      "source": [
        "# Here, 'a' matrix is 3D, which means there are 3 matrices each of 2x5 size\n",
        "# Similarly, for 'b' matrix\n",
        "# So we perform 3 matrix multiplication operations each with 2x5 and 5x3 matrices from a and b\n",
        "a = np.random.random([3,2,5])\n",
        "b = np.random.random([3,5,3])\n",
        "c = a @ b\n",
        "print(c.shape)"
      ],
      "metadata": {
        "colab": {
          "base_uri": "https://localhost:8080/"
        },
        "id": "gz7HvCGj3ybt",
        "outputId": "8a234275-2535-4ee6-979c-d97ca0c4cb6a"
      },
      "execution_count": 35,
      "outputs": [
        {
          "output_type": "stream",
          "name": "stdout",
          "text": [
            "(3, 2, 3)\n"
          ]
        }
      ]
    },
    {
      "cell_type": "markdown",
      "source": [
        "### Matrix Determinant\n",
        "\n",
        "Matrix determinant can be calculated using the method det available in the linalg module."
      ],
      "metadata": {
        "id": "5eRJfAYi36R3"
      }
    },
    {
      "cell_type": "code",
      "source": [
        "# generate a random integer matrix of size 3 by 3\n",
        "a = np.random.randint(10,26,[3,3])\n",
        "det = np.linalg.det(a)\n",
        "print(int(det))"
      ],
      "metadata": {
        "colab": {
          "base_uri": "https://localhost:8080/"
        },
        "id": "w5tKEMRg4VDJ",
        "outputId": "cd6c6ca0-2c02-410c-8365-6eebb3e6583a"
      },
      "execution_count": 29,
      "outputs": [
        {
          "output_type": "stream",
          "name": "stdout",
          "text": [
            "-2191\n"
          ]
        }
      ]
    },
    {
      "cell_type": "markdown",
      "source": [
        "### Matrix Inverse\n",
        "\n",
        "Inverse of a square matrix can be derived using the inv method of the linalg module."
      ],
      "metadata": {
        "id": "BFOSzGFb4aT8"
      }
    },
    {
      "cell_type": "code",
      "source": [
        "a = np.random.randint(1,8,[3,3])\n",
        "inv = np.linalg.inv(a)\n",
        "print(a)\n",
        "print()\n",
        "print(inv)\n"
      ],
      "metadata": {
        "colab": {
          "base_uri": "https://localhost:8080/"
        },
        "id": "z49niTD_4Yg_",
        "outputId": "a5173445-b92f-45e7-a073-e40434506674"
      },
      "execution_count": 27,
      "outputs": [
        {
          "output_type": "stream",
          "name": "stdout",
          "text": [
            "[[4 7 1]\n",
            " [5 5 1]\n",
            " [1 6 2]]\n",
            "\n",
            "[[-0.18181818  0.36363636 -0.09090909]\n",
            " [ 0.40909091 -0.31818182 -0.04545455]\n",
            " [-1.13636364  0.77272727  0.68181818]]\n"
          ]
        }
      ]
    },
    {
      "cell_type": "markdown",
      "source": [
        "### Matrix Power\n",
        "\n",
        "Matrix Power is a general method to obtain either positive or negative powers of a given square matrix. The first negative power of a matrix is technically termed its inverse. Thus, the matrix_power method can be used to find the inverse or any power of a matrix."
      ],
      "metadata": {
        "id": "njyaY6Cp4tst"
      }
    },
    {
      "cell_type": "code",
      "source": [
        "a = np.random.random([3,3])\n",
        "\n",
        "# positive powers of matrix\n",
        "a_3 = np.linalg.matrix_power(a, 3)\n",
        "a_6 = np.linalg.matrix_power(a, 6)\n",
        "\n",
        "# inverse of matrix\n",
        "a_inv_2 = np.linalg.matrix_power(a, -2)\n",
        "a_inv_4 = np.linalg.matrix_power(a, -4)\n",
        "\n",
        "print('matrix \\n', a)\n",
        "print('\\n matrix to the power 2\\n', a_3)\n",
        "print('\\n matrix to the power 7\\n', a_6)\n",
        "print('\\n matrix inverse \\n', a_inv_2)\n",
        "print('\\n matrix cubic inverse \\n', a_inv_4)"
      ],
      "metadata": {
        "colab": {
          "base_uri": "https://localhost:8080/"
        },
        "id": "dmEcKfC-4zmd",
        "outputId": "b5d1f3cf-217e-4915-ed9e-981c1b8ba648"
      },
      "execution_count": 13,
      "outputs": [
        {
          "output_type": "stream",
          "name": "stdout",
          "text": [
            "matrix \n",
            " [[0.44472801 0.48281347 0.02398902]\n",
            " [0.37007619 0.6671838  0.14816889]\n",
            " [0.37617678 0.69839708 0.1441801 ]]\n",
            "\n",
            " matrix to the power 2\n",
            " [[0.40853533 0.61529852 0.10362491]\n",
            " [0.52550705 0.80098348 0.13758371]\n",
            " [0.54052791 0.82407724 0.14160417]]\n",
            "\n",
            " matrix to the power 7\n",
            " [[0.54625699 0.82961007 0.14166321]\n",
            " [0.7099785  1.07829785 0.18414033]\n",
            " [0.73042416 1.10935106 0.1894435 ]]\n",
            "\n",
            " matrix inverse \n",
            " [[   93.7760542  -2651.21193461  2507.48281559]\n",
            " [  -85.57571664  2808.29345457 -2664.88961583]\n",
            " [  142.71190795 -6218.02472638  5938.06362147]]\n",
            "\n",
            " matrix cubic inverse \n",
            " [[   593520.96638406 -23285591.46501053  22189921.48701081]\n",
            " [  -628658.1595136   24683741.01254402 -23522655.78716331]\n",
            " [  1392927.27063192 -54763424.07812699  52188796.75365701]]\n"
          ]
        }
      ]
    },
    {
      "cell_type": "markdown",
      "source": [
        "### Eigenvalues and Eigenvectors\n",
        "\n",
        "Eigenvalues and Eigenvectors of a matrix can be determined as follows. If Eigen values cannot be determined, the method throws an error (Eg. Singular matrix)."
      ],
      "metadata": {
        "id": "Cw5WsQhR5VDP"
      }
    },
    {
      "cell_type": "code",
      "source": [
        "a = np.arange(9).reshape(3,3)\n",
        "eig_val, eig_vec = np.linalg.eig(a)\n",
        "print('Eigenvalues are: \\n', eig_val)\n",
        "print('\\nEigenvectors are: \\n', eig_vec)"
      ],
      "metadata": {
        "colab": {
          "base_uri": "https://localhost:8080/"
        },
        "id": "yHrUF0eN5bUQ",
        "outputId": "af7d7e91-36d5-405a-c99c-ebee8121cd6b"
      },
      "execution_count": 19,
      "outputs": [
        {
          "output_type": "stream",
          "name": "stdout",
          "text": [
            "Eigenvalues are: \n",
            " [ 1.33484692e+01 -1.34846923e+00 -2.48477279e-16]\n",
            "\n",
            "Eigenvectors are: \n",
            " [[ 0.16476382  0.79969966  0.40824829]\n",
            " [ 0.50577448  0.10420579 -0.81649658]\n",
            " [ 0.84678513 -0.59128809  0.40824829]]\n"
          ]
        }
      ]
    },
    {
      "cell_type": "code",
      "source": [
        "# Eigenvalues alone can be determined using the method eigvals as shown below.\n",
        "\n",
        "a = np.arange(9).reshape(3,3)\n",
        "eigenvalues = np.linalg.eigvals(a)\n",
        "print(eigenvalues)"
      ],
      "metadata": {
        "colab": {
          "base_uri": "https://localhost:8080/"
        },
        "id": "FP_Wabpg58ZT",
        "outputId": "17300573-e1fb-4fe5-a1f6-1b37672e5a30"
      },
      "execution_count": 20,
      "outputs": [
        {
          "output_type": "stream",
          "name": "stdout",
          "text": [
            "[ 1.33484692e+01 -1.34846923e+00 -2.48477279e-16]\n"
          ]
        }
      ]
    },
    {
      "cell_type": "markdown",
      "source": [
        "### Traces of a Matrix\n",
        "\n",
        "Traces of a square matrix is the summation of its diagonal elements."
      ],
      "metadata": {
        "id": "RPbgLzQA6AXX"
      }
    },
    {
      "cell_type": "code",
      "source": [
        "a = np.eye(4)\n",
        "print(a)\n",
        "c = np.trace(a)\n",
        "print('\\nTrace of matrix is: ',c)"
      ],
      "metadata": {
        "colab": {
          "base_uri": "https://localhost:8080/"
        },
        "id": "wtiihnwc6EuR",
        "outputId": "19c8002b-2d1e-44ba-ef65-2044d9581adb"
      },
      "execution_count": 21,
      "outputs": [
        {
          "output_type": "stream",
          "name": "stdout",
          "text": [
            "[[1. 0. 0. 0.]\n",
            " [0. 1. 0. 0.]\n",
            " [0. 0. 1. 0.]\n",
            " [0. 0. 0. 1.]]\n",
            "\n",
            "Trace of matrix is:  4.0\n"
          ]
        }
      ]
    },
    {
      "cell_type": "markdown",
      "source": [
        "### Matrix Norm\n",
        "\n",
        "Matrix or vector norm is calculated using the norm method of the linalg module."
      ],
      "metadata": {
        "id": "fCXbbdTU6NtN"
      }
    },
    {
      "cell_type": "code",
      "source": [
        "a = np.arange(16).reshape(4,4)\n",
        "n = np.linalg.norm(a)\n",
        "print(a)\n",
        "print('\\n Frobenius Norm of above matrix:')\n",
        "print(n)"
      ],
      "metadata": {
        "colab": {
          "base_uri": "https://localhost:8080/"
        },
        "id": "7Y4_rx_d6S-2",
        "outputId": "11524c97-1815-4034-eb16-2ad4ed7921ae"
      },
      "execution_count": 22,
      "outputs": [
        {
          "output_type": "stream",
          "name": "stdout",
          "text": [
            "[[ 0  1  2  3]\n",
            " [ 4  5  6  7]\n",
            " [ 8  9 10 11]\n",
            " [12 13 14 15]]\n",
            "\n",
            " Frobenius Norm of above matrix:\n",
            "35.21363372331802\n"
          ]
        }
      ]
    },
    {
      "cell_type": "markdown",
      "source": [
        "### Norm of Matrix\n",
        "\n",
        "Axis-wise norm determination is also possible by specifying the axis as an integer."
      ],
      "metadata": {
        "id": "RbjC4mXH6fy4"
      }
    },
    {
      "cell_type": "code",
      "source": [
        "# Norm along axis 0\n",
        "a = np.arange(6).reshape(3,2)\n",
        "z = np.linalg.norm(a, axis=0)\n",
        "print(z)"
      ],
      "metadata": {
        "colab": {
          "base_uri": "https://localhost:8080/"
        },
        "id": "JMQJ7n9h6l4X",
        "outputId": "5cb61a8d-49d5-420d-dcfb-6bcfd156bf54"
      },
      "execution_count": 24,
      "outputs": [
        {
          "output_type": "stream",
          "name": "stdout",
          "text": [
            "[4.47213595 5.91607978]\n"
          ]
        }
      ]
    },
    {
      "cell_type": "markdown",
      "source": [
        "### Solving System of Equations\n",
        "\n",
        "When we think of Linear Algebra, the system of linear equations comes to our mind first, as it is tedious, time-consuming and error-prone. NumPy solves systems of linear equations in a fraction of seconds!"
      ],
      "metadata": {
        "id": "_EvmpcMx6yj8"
      }
    },
    {
      "cell_type": "code",
      "source": [
        "# Coefficient Matrix\n",
        "a = np.random.randint(5,25,[4,4])\n",
        "\n",
        "# Dependent variable vector\n",
        "b = np.array([2,3,7,9.2])\n",
        "\n",
        "# solution\n",
        "x = np.linalg.solve(a,b)\n",
        "print('Coefficient Matrix')\n",
        "print(a)\n",
        "print('\\nDependent Variable vector')\n",
        "print(b)\n",
        "print('\\nSolution')\n",
        "print(x)"
      ],
      "metadata": {
        "colab": {
          "base_uri": "https://localhost:8080/"
        },
        "id": "3FZC9dFf6yML",
        "outputId": "ca55e97d-c4f0-4b29-80da-42a417bb465c"
      },
      "execution_count": 25,
      "outputs": [
        {
          "output_type": "stream",
          "name": "stdout",
          "text": [
            "Coefficient Matrix\n",
            "[[20  6 23 11]\n",
            " [ 5 22 17 15]\n",
            " [20 20  6 21]\n",
            " [15 14  5  6]]\n",
            "\n",
            "Dependent Variable vector\n",
            "[2.  3.  7.  9.2]\n",
            "\n",
            "Solution\n",
            "[ 0.3970235   0.48909922 -0.16409922 -0.46370757]\n"
          ]
        }
      ]
    },
    {
      "cell_type": "markdown",
      "source": [
        "### Singular Value Decomposition\n",
        "\n",
        "Singular Value Decomposition (SVD) is one of the great dimension-reduction algorithms in machine learning. It identifies the principal components and arranges them by rank. The top ranked components contribute greatly to the original array. Here, we explore SVD with an image to get better understanding."
      ],
      "metadata": {
        "id": "B2O6loxR7DAm"
      }
    }
  ]
}